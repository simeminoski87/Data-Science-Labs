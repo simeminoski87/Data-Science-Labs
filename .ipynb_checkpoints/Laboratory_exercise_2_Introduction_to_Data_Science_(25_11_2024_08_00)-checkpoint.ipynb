{
  "nbformat": 4,
  "nbformat_minor": 0,
  "metadata": {
    "colab": {
      "provenance": []
    },
    "kernelspec": {
      "name": "python3",
      "display_name": "Python 3"
    },
    "language_info": {
      "name": "python"
    }
  },
  "cells": [
    {
      "cell_type": "markdown",
      "source": [
        "# Requirements"
      ],
      "metadata": {
        "id": "rODb9vHvIEbp"
      }
    },
    {
      "cell_type": "code",
      "source": [
        "# Add as many imports as you need."
      ],
      "metadata": {
        "id": "U4KmHBd2cdx9"
      },
      "execution_count": null,
      "outputs": []
    },
    {
      "cell_type": "markdown",
      "source": [
        "# Laboratory Exercise - Run Mode (8 points)"
      ],
      "metadata": {
        "id": "KNMMoUiUIW3L"
      }
    },
    {
      "cell_type": "markdown",
      "source": [
        "## The Vacation Preferences Dataset\n",
        "The dataset contains information about individuals and their vacation preferences. It includes details such as age, gender, income, and education level. It also provides insights into their vacation habits, like the number of vacations taken each year, preferred activities (such as hiking, swimming, skiing, or sunbathing), and their budget for vacations. Other information includes the type of place they live in (urban, suburban, or rural), how far they live from mountains and beaches, and their favorite season for vacations (summer, winter, spring, or fall). The dataset also contains information whether they have pets and if they are concerned about the environment. All these features serve as input variables for predictive modeling. The 'Preference' attribute serves as the target variable, where 1 represents preference for mountains, 0 for beaches."
      ],
      "metadata": {
        "id": "zBYI-EypaWom"
      }
    },
    {
      "cell_type": "markdown",
      "source": [
        "Load the dataset into a `pandas` data frame."
      ],
      "metadata": {
        "id": "DCm1qm1mZwMr"
      }
    },
    {
      "cell_type": "code",
      "source": [
        "# Write your code here. Add as many boxes as you need."
      ],
      "metadata": {
        "id": "KMOn4fgcZn8s"
      },
      "execution_count": null,
      "outputs": []
    },
    {
      "cell_type": "markdown",
      "source": [
        "Preprocess the input and the output variables appropriately."
      ],
      "metadata": {
        "id": "7yVjyyL-SENC"
      }
    },
    {
      "cell_type": "code",
      "source": [
        "# Write your code here. Add as many boxes as you need."
      ],
      "metadata": {
        "id": "VFMBXEUkSD5V"
      },
      "execution_count": null,
      "outputs": []
    },
    {
      "cell_type": "markdown",
      "source": [
        "Explore the dataset using visualizations of your choice."
      ],
      "metadata": {
        "id": "5slwyyhCKRo9"
      }
    },
    {
      "cell_type": "code",
      "source": [
        "# Write your code here. Add as many boxes as you need."
      ],
      "metadata": {
        "id": "DFY6TKhGKOY4"
      },
      "execution_count": null,
      "outputs": []
    },
    {
      "cell_type": "markdown",
      "source": [
        "Check if the dataset is balanced."
      ],
      "metadata": {
        "id": "aHu0QDOtM-mK"
      }
    },
    {
      "cell_type": "code",
      "source": [
        "# Write your code here. Add as many boxes as you need."
      ],
      "metadata": {
        "id": "y-gl5hyJM_vG"
      },
      "execution_count": null,
      "outputs": []
    },
    {
      "cell_type": "markdown",
      "source": [
        "## Detecting Missing Values\n",
        "Calculate the percentage of missing values present in each column of the dataset."
      ],
      "metadata": {
        "id": "KwGjJs4rLi0P"
      }
    },
    {
      "cell_type": "code",
      "source": [
        "# Write your code here. Add as many boxes as you need."
      ],
      "metadata": {
        "id": "L1l_JV-nL3ND"
      },
      "execution_count": null,
      "outputs": []
    },
    {
      "cell_type": "markdown",
      "source": [
        "## Understanding the Causes Behind Missing Values\n",
        "Using visualization tools such as heatmaps, and dendrograms, illustrate the interdependence between attributes with missing values. Also, visualize the distribution of the missing values within the dataset using matrices and bar charts."
      ],
      "metadata": {
        "id": "_5n7SWKfL46j"
      }
    },
    {
      "cell_type": "code",
      "source": [
        "# Write your code here. Add as many boxes as you need."
      ],
      "metadata": {
        "id": "Wa7uzbI5L4kL"
      },
      "execution_count": null,
      "outputs": []
    },
    {
      "cell_type": "markdown",
      "source": [
        "## Handling the Missing Values\n",
        "Handle the missing values using suitable method based on the insights obtained from the various visualizations."
      ],
      "metadata": {
        "id": "99Gjo6KhMKqt"
      }
    },
    {
      "cell_type": "code",
      "source": [
        "# Write your code here. Add as many boxes as you need."
      ],
      "metadata": {
        "id": "urmTiMn2MKgV"
      },
      "execution_count": null,
      "outputs": []
    },
    {
      "cell_type": "markdown",
      "source": [
        "## Dataset Splitting\n",
        "Partition the dataset into training and testing sets with an 80:20 ratio."
      ],
      "metadata": {
        "id": "tls69_PrbJKW"
      }
    },
    {
      "cell_type": "code",
      "source": [
        "# Write your code here. Add as many boxes as you need."
      ],
      "metadata": {
        "id": "PjGGGMxebeoB"
      },
      "execution_count": null,
      "outputs": []
    },
    {
      "cell_type": "markdown",
      "source": [
        "## Feature Scaling\n",
        "Standardize the features appropriately."
      ],
      "metadata": {
        "id": "qhiEJI_xJ0Bt"
      }
    },
    {
      "cell_type": "code",
      "source": [
        "# Write your code here. Add as many boxes as you need."
      ],
      "metadata": {
        "id": "nwQFchgSKK8p"
      },
      "execution_count": null,
      "outputs": []
    },
    {
      "cell_type": "markdown",
      "source": [
        "## Model Selection"
      ],
      "metadata": {
        "id": "VIkAR1Hibiwr"
      }
    },
    {
      "cell_type": "markdown",
      "source": [
        "Choose and train an approriate model for the given task."
      ],
      "metadata": {
        "id": "qWn1pafKbnxH"
      }
    },
    {
      "cell_type": "code",
      "source": [
        "# Write your code here. Add as many boxes as you need."
      ],
      "metadata": {
        "id": "IXFIrQthbnkb"
      },
      "execution_count": null,
      "outputs": []
    },
    {
      "cell_type": "markdown",
      "source": [
        "Use the trained model to make predictions for the test set."
      ],
      "metadata": {
        "id": "gyXZwAVab8Cp"
      }
    },
    {
      "cell_type": "code",
      "source": [
        "# Write your code here. Add as many boxes as you need."
      ],
      "metadata": {
        "id": "EvMfVum6b_9b"
      },
      "execution_count": null,
      "outputs": []
    },
    {
      "cell_type": "markdown",
      "source": [
        "Assess the performance of the model by using different classification metrics."
      ],
      "metadata": {
        "id": "3VxAvDPtcNCh"
      }
    },
    {
      "cell_type": "code",
      "source": [
        "# Write your code here. Add as many boxes as you need."
      ],
      "metadata": {
        "id": "V4axpktycQhp"
      },
      "execution_count": null,
      "outputs": []
    },
    {
      "cell_type": "markdown",
      "source": [
        "# Laboratory Exercise - Bonus Task (+ 2 points)"
      ],
      "metadata": {
        "id": "RwnD_qSpIeXG"
      }
    },
    {
      "cell_type": "markdown",
      "source": [
        "As part of the bonus task in this laboratory assignment, your objective is to fine-tune at least one hyper-parameter using a cross-validation with grid search. This involves systematically experimenting with various values for the hyper-parameter(s) and evaluating the model's performance using cross-validation. Upon determining the most suitable value(s) for the hyper-parameter(s), evaluate the model's performance on a test set for final assessment.\n",
        "\n",
        "Hint: Use the `GridCVSearch` from the `scikit-learn` library. Check the documentation at https://scikit-learn.org/stable/modules/generated/sklearn.model_selection.GridSearchCV.html."
      ],
      "metadata": {
        "id": "lSTuVpyYd2is"
      }
    },
    {
      "cell_type": "markdown",
      "source": [
        "## Dataset Splitting\n",
        "Partition the dataset into training and testing sets with an 90:10 ratio."
      ],
      "metadata": {
        "id": "yZriA4d4eWLJ"
      }
    },
    {
      "cell_type": "code",
      "source": [
        "# Write your code here. Add as many boxes as you need."
      ],
      "metadata": {
        "id": "ile-T3vmIfsm"
      },
      "execution_count": null,
      "outputs": []
    },
    {
      "cell_type": "markdown",
      "source": [
        "## Feature Scaling\n",
        "Standardize the features appropriately."
      ],
      "metadata": {
        "id": "pq6fQdFSVmXM"
      }
    },
    {
      "cell_type": "code",
      "source": [
        "# Write your code here. Add as many boxes as you need."
      ],
      "metadata": {
        "id": "BfTeMwTpVm-H"
      },
      "execution_count": null,
      "outputs": []
    },
    {
      "cell_type": "markdown",
      "source": [
        "## Fine-tuning the Hyperparameters\n",
        "Experiment with various values for the chosen hyperparameter(s) and evaluate the model's performance using cross-validation."
      ],
      "metadata": {
        "id": "E9myidoNgjmy"
      }
    },
    {
      "cell_type": "code",
      "source": [
        "# Write your code here. Add as many boxes as you need."
      ],
      "metadata": {
        "id": "Vb5WJwEggm1f"
      },
      "execution_count": null,
      "outputs": []
    },
    {
      "cell_type": "markdown",
      "source": [
        "## Final Assessment of the Model Performance\n",
        "Upon determining the most suitable hyperparameter(s), evaluate the model's performance on a test set for final assessment."
      ],
      "metadata": {
        "id": "OzxTQJABiWAp"
      }
    },
    {
      "cell_type": "code",
      "source": [
        "# Write your code here. Add as many boxes as you need."
      ],
      "metadata": {
        "id": "oK__muPhicCr"
      },
      "execution_count": null,
      "outputs": []
    }
  ]
}